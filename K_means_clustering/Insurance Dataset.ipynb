{
 "cells": [
  {
   "cell_type": "code",
   "execution_count": 20,
   "metadata": {},
   "outputs": [],
   "source": [
    "import pandas as pd"
   ]
  },
  {
   "cell_type": "code",
   "execution_count": 23,
   "metadata": {},
   "outputs": [
    {
     "name": "stdout",
     "output_type": "stream",
     "text": [
      "<class 'pandas.core.frame.DataFrame'>\n",
      "RangeIndex: 100 entries, 0 to 99\n",
      "Data columns (total 5 columns):\n",
      " #   Column         Non-Null Count  Dtype  \n",
      "---  ------         --------------  -----  \n",
      " 0   Premiums Paid  100 non-null    int64  \n",
      " 1   Age            100 non-null    int64  \n",
      " 2   Days to Renew  100 non-null    int64  \n",
      " 3   Claims made    100 non-null    float64\n",
      " 4   Income         100 non-null    int64  \n",
      "dtypes: float64(1), int64(4)\n",
      "memory usage: 4.0 KB\n"
     ]
    }
   ],
   "source": [
    "Dataset = pd.read_csv(\"Insurance Dataset.csv\")\n",
    "Dataset.info()"
   ]
  },
  {
   "cell_type": "code",
   "execution_count": 24,
   "metadata": {},
   "outputs": [],
   "source": [
    "# normalization for int values\n",
    "\n",
    "def norm(i):\n",
    "    x=(i-i.min())/(i.max()-i.min())\n",
    "    return x"
   ]
  },
  {
   "cell_type": "code",
   "execution_count": 25,
   "metadata": {},
   "outputs": [],
   "source": [
    "data_norm = norm(Dataset)"
   ]
  },
  {
   "cell_type": "code",
   "execution_count": 26,
   "metadata": {},
   "outputs": [
    {
     "data": {
      "text/html": [
       "<div>\n",
       "<style scoped>\n",
       "    .dataframe tbody tr th:only-of-type {\n",
       "        vertical-align: middle;\n",
       "    }\n",
       "\n",
       "    .dataframe tbody tr th {\n",
       "        vertical-align: top;\n",
       "    }\n",
       "\n",
       "    .dataframe thead th {\n",
       "        text-align: right;\n",
       "    }\n",
       "</style>\n",
       "<table border=\"1\" class=\"dataframe\">\n",
       "  <thead>\n",
       "    <tr style=\"text-align: right;\">\n",
       "      <th></th>\n",
       "      <th>Premiums Paid</th>\n",
       "      <th>Age</th>\n",
       "      <th>Days to Renew</th>\n",
       "      <th>Claims made</th>\n",
       "      <th>Income</th>\n",
       "    </tr>\n",
       "  </thead>\n",
       "  <tbody>\n",
       "    <tr>\n",
       "      <th>count</th>\n",
       "      <td>100.000000</td>\n",
       "      <td>100.000000</td>\n",
       "      <td>100.000000</td>\n",
       "      <td>100.000000</td>\n",
       "      <td>100.000000</td>\n",
       "    </tr>\n",
       "    <tr>\n",
       "      <th>mean</th>\n",
       "      <td>0.359493</td>\n",
       "      <td>0.391695</td>\n",
       "      <td>0.373125</td>\n",
       "      <td>0.108505</td>\n",
       "      <td>0.500000</td>\n",
       "    </tr>\n",
       "    <tr>\n",
       "      <th>std</th>\n",
       "      <td>0.250581</td>\n",
       "      <td>0.235384</td>\n",
       "      <td>0.275174</td>\n",
       "      <td>0.140185</td>\n",
       "      <td>0.293045</td>\n",
       "    </tr>\n",
       "    <tr>\n",
       "      <th>min</th>\n",
       "      <td>0.000000</td>\n",
       "      <td>0.000000</td>\n",
       "      <td>0.000000</td>\n",
       "      <td>0.000000</td>\n",
       "      <td>0.000000</td>\n",
       "    </tr>\n",
       "    <tr>\n",
       "      <th>25%</th>\n",
       "      <td>0.154059</td>\n",
       "      <td>0.186441</td>\n",
       "      <td>0.171875</td>\n",
       "      <td>0.033188</td>\n",
       "      <td>0.250000</td>\n",
       "    </tr>\n",
       "    <tr>\n",
       "      <th>50%</th>\n",
       "      <td>0.333026</td>\n",
       "      <td>0.372881</td>\n",
       "      <td>0.275000</td>\n",
       "      <td>0.065587</td>\n",
       "      <td>0.500000</td>\n",
       "    </tr>\n",
       "    <tr>\n",
       "      <th>75%</th>\n",
       "      <td>0.467712</td>\n",
       "      <td>0.533898</td>\n",
       "      <td>0.579688</td>\n",
       "      <td>0.129916</td>\n",
       "      <td>0.750000</td>\n",
       "    </tr>\n",
       "    <tr>\n",
       "      <th>max</th>\n",
       "      <td>1.000000</td>\n",
       "      <td>1.000000</td>\n",
       "      <td>1.000000</td>\n",
       "      <td>1.000000</td>\n",
       "      <td>1.000000</td>\n",
       "    </tr>\n",
       "  </tbody>\n",
       "</table>\n",
       "</div>"
      ],
      "text/plain": [
       "       Premiums Paid         Age  Days to Renew  Claims made      Income\n",
       "count     100.000000  100.000000     100.000000   100.000000  100.000000\n",
       "mean        0.359493    0.391695       0.373125     0.108505    0.500000\n",
       "std         0.250581    0.235384       0.275174     0.140185    0.293045\n",
       "min         0.000000    0.000000       0.000000     0.000000    0.000000\n",
       "25%         0.154059    0.186441       0.171875     0.033188    0.250000\n",
       "50%         0.333026    0.372881       0.275000     0.065587    0.500000\n",
       "75%         0.467712    0.533898       0.579688     0.129916    0.750000\n",
       "max         1.000000    1.000000       1.000000     1.000000    1.000000"
      ]
     },
     "execution_count": 26,
     "metadata": {},
     "output_type": "execute_result"
    }
   ],
   "source": [
    "data_norm.describe()"
   ]
  },
  {
   "cell_type": "code",
   "execution_count": 27,
   "metadata": {},
   "outputs": [],
   "source": [
    "import matplotlib.pyplot as plt\n",
    "from sklearn.cluster import KMeans"
   ]
  },
  {
   "cell_type": "code",
   "execution_count": 31,
   "metadata": {},
   "outputs": [
    {
     "data": {
      "text/plain": [
       "[18.56906591852995,\n",
       " 14.489584453634881,\n",
       " 10.789031961178155,\n",
       " 8.986223209946145,\n",
       " 7.342376526891031,\n",
       " 6.556981381869312,\n",
       " 5.92184391903055]"
      ]
     },
     "execution_count": 31,
     "metadata": {},
     "output_type": "execute_result"
    }
   ],
   "source": [
    "# find the value of TWSS\n",
    "TWSS = []\n",
    "k = list(range(2,9))\n",
    "for i in k:\n",
    "    Kmeans = KMeans(n_clusters = i)\n",
    "    Kmeans.fit(data_norm)\n",
    "    TWSS.append(Kmeans.inertia_)\n",
    "TWSS\n",
    "    "
   ]
  },
  {
   "cell_type": "code",
   "execution_count": 33,
   "metadata": {},
   "outputs": [
    {
     "data": {
      "image/png": "[encoded data removed]",
      "text/plain": [
       "<Figure size 432x288 with 1 Axes>"
      ]
     },
     "metadata": {
      "needs_background": "light"
     },
     "output_type": "display_data"
    }
   ],
   "source": [
    "#scree plot\n",
    "plt.plot(TWSS,k,'ro-');plt.xlabel(\"No. of clusters\");plt.ylabel(\"TWSS\")\n",
    "plt.show()\n",
    "\n",
    "# 3 clusters"
   ]
  },
  {
   "cell_type": "code",
   "execution_count": 34,
   "metadata": {},
   "outputs": [
    {
     "data": {
      "text/plain": [
       "array([0, 1, 1, 1, 1, 1, 1, 1, 1, 0, 0, 0, 0, 0, 0, 1, 1, 1, 1, 1, 1, 1,\n",
       "       1, 1, 1, 1, 1, 1, 1, 1, 1, 0, 0, 0, 0, 0, 0, 1, 1, 1, 1, 1, 1, 1,\n",
       "       1, 1, 1, 0, 0, 0, 0, 1, 1, 1, 1, 1, 2, 2, 2, 1, 1, 1, 1, 2, 1, 1,\n",
       "       1, 0, 2, 0, 0, 0, 1, 1, 2, 2, 2, 2, 2, 1, 2, 2, 2, 2, 2, 2, 2, 2,\n",
       "       2, 2, 2, 2, 2, 2, 2, 2, 2, 2, 2, 2])"
      ]
     },
     "execution_count": 34,
     "metadata": {},
     "output_type": "execute_result"
    }
   ],
   "source": [
    "# mmodel\n",
    "\n",
    "model = KMeans(n_clusters = 3)\n",
    "model.fit(data_norm)\n",
    "model.labels_"
   ]
  },
  {
   "cell_type": "code",
   "execution_count": 35,
   "metadata": {},
   "outputs": [],
   "source": [
    "Clust = pd.Series(model.labels_)"
   ]
  },
  {
   "cell_type": "code",
   "execution_count": 36,
   "metadata": {},
   "outputs": [],
   "source": [
    "Dataset['Clust']=Clust"
   ]
  },
  {
   "cell_type": "code",
   "execution_count": 37,
   "metadata": {},
   "outputs": [
    {
     "name": "stdout",
     "output_type": "stream",
     "text": [
      "<class 'pandas.core.frame.DataFrame'>\n",
      "RangeIndex: 100 entries, 0 to 99\n",
      "Data columns (total 6 columns):\n",
      " #   Column         Non-Null Count  Dtype  \n",
      "---  ------         --------------  -----  \n",
      " 0   Premiums Paid  100 non-null    int64  \n",
      " 1   Age            100 non-null    int64  \n",
      " 2   Days to Renew  100 non-null    int64  \n",
      " 3   Claims made    100 non-null    float64\n",
      " 4   Income         100 non-null    int64  \n",
      " 5   Clust          100 non-null    int32  \n",
      "dtypes: float64(1), int32(1), int64(4)\n",
      "memory usage: 4.4 KB\n"
     ]
    }
   ],
   "source": [
    "Dataset.info()"
   ]
  },
  {
   "cell_type": "code",
   "execution_count": 38,
   "metadata": {},
   "outputs": [
    {
     "data": {
      "text/html": [
       "<div>\n",
       "<style scoped>\n",
       "    .dataframe tbody tr th:only-of-type {\n",
       "        vertical-align: middle;\n",
       "    }\n",
       "\n",
       "    .dataframe tbody tr th {\n",
       "        vertical-align: top;\n",
       "    }\n",
       "\n",
       "    .dataframe thead th {\n",
       "        text-align: right;\n",
       "    }\n",
       "</style>\n",
       "<table border=\"1\" class=\"dataframe\">\n",
       "  <thead>\n",
       "    <tr style=\"text-align: right;\">\n",
       "      <th></th>\n",
       "      <th>Clust</th>\n",
       "      <th>Premiums Paid</th>\n",
       "      <th>Age</th>\n",
       "      <th>Days to Renew</th>\n",
       "      <th>Claims made</th>\n",
       "      <th>Income</th>\n",
       "    </tr>\n",
       "  </thead>\n",
       "  <tbody>\n",
       "    <tr>\n",
       "      <th>0</th>\n",
       "      <td>0</td>\n",
       "      <td>2800</td>\n",
       "      <td>26</td>\n",
       "      <td>233</td>\n",
       "      <td>3890.076336</td>\n",
       "      <td>28000</td>\n",
       "    </tr>\n",
       "    <tr>\n",
       "      <th>1</th>\n",
       "      <td>1</td>\n",
       "      <td>2950</td>\n",
       "      <td>27</td>\n",
       "      <td>130</td>\n",
       "      <td>2294.444444</td>\n",
       "      <td>29500</td>\n",
       "    </tr>\n",
       "    <tr>\n",
       "      <th>2</th>\n",
       "      <td>1</td>\n",
       "      <td>3100</td>\n",
       "      <td>28</td>\n",
       "      <td>144</td>\n",
       "      <td>2564.545455</td>\n",
       "      <td>31000</td>\n",
       "    </tr>\n",
       "    <tr>\n",
       "      <th>3</th>\n",
       "      <td>1</td>\n",
       "      <td>3250</td>\n",
       "      <td>30</td>\n",
       "      <td>65</td>\n",
       "      <td>1978.260870</td>\n",
       "      <td>32500</td>\n",
       "    </tr>\n",
       "    <tr>\n",
       "      <th>4</th>\n",
       "      <td>1</td>\n",
       "      <td>3400</td>\n",
       "      <td>32</td>\n",
       "      <td>56</td>\n",
       "      <td>2009.090909</td>\n",
       "      <td>34000</td>\n",
       "    </tr>\n",
       "    <tr>\n",
       "      <th>...</th>\n",
       "      <td>...</td>\n",
       "      <td>...</td>\n",
       "      <td>...</td>\n",
       "      <td>...</td>\n",
       "      <td>...</td>\n",
       "      <td>...</td>\n",
       "    </tr>\n",
       "    <tr>\n",
       "      <th>95</th>\n",
       "      <td>2</td>\n",
       "      <td>25575</td>\n",
       "      <td>63</td>\n",
       "      <td>76</td>\n",
       "      <td>16161.979170</td>\n",
       "      <td>170500</td>\n",
       "    </tr>\n",
       "    <tr>\n",
       "      <th>96</th>\n",
       "      <td>2</td>\n",
       "      <td>25800</td>\n",
       "      <td>62</td>\n",
       "      <td>166</td>\n",
       "      <td>23715.151520</td>\n",
       "      <td>172000</td>\n",
       "    </tr>\n",
       "    <tr>\n",
       "      <th>97</th>\n",
       "      <td>2</td>\n",
       "      <td>26025</td>\n",
       "      <td>59</td>\n",
       "      <td>167</td>\n",
       "      <td>24043.401020</td>\n",
       "      <td>173500</td>\n",
       "    </tr>\n",
       "    <tr>\n",
       "      <th>98</th>\n",
       "      <td>2</td>\n",
       "      <td>26250</td>\n",
       "      <td>58</td>\n",
       "      <td>245</td>\n",
       "      <td>40147.058820</td>\n",
       "      <td>175000</td>\n",
       "    </tr>\n",
       "    <tr>\n",
       "      <th>99</th>\n",
       "      <td>2</td>\n",
       "      <td>26475</td>\n",
       "      <td>52</td>\n",
       "      <td>261</td>\n",
       "      <td>46781.067960</td>\n",
       "      <td>176500</td>\n",
       "    </tr>\n",
       "  </tbody>\n",
       "</table>\n",
       "<p>100 rows × 6 columns</p>\n",
       "</div>"
      ],
      "text/plain": [
       "    Clust  Premiums Paid  Age  Days to Renew   Claims made  Income\n",
       "0       0           2800   26            233   3890.076336   28000\n",
       "1       1           2950   27            130   2294.444444   29500\n",
       "2       1           3100   28            144   2564.545455   31000\n",
       "3       1           3250   30             65   1978.260870   32500\n",
       "4       1           3400   32             56   2009.090909   34000\n",
       "..    ...            ...  ...            ...           ...     ...\n",
       "95      2          25575   63             76  16161.979170  170500\n",
       "96      2          25800   62            166  23715.151520  172000\n",
       "97      2          26025   59            167  24043.401020  173500\n",
       "98      2          26250   58            245  40147.058820  175000\n",
       "99      2          26475   52            261  46781.067960  176500\n",
       "\n",
       "[100 rows x 6 columns]"
      ]
     },
     "execution_count": 38,
     "metadata": {},
     "output_type": "execute_result"
    }
   ],
   "source": [
    "Dataset_new = Dataset.iloc[:,[5,0,1,2,3,4]]\n",
    "Dataset_new"
   ]
  },
  {
   "cell_type": "code",
   "execution_count": 39,
   "metadata": {},
   "outputs": [],
   "source": [
    "Dataset_new.to_csv(\"Insurance_data_ans.csv\")"
   ]
  },
  {
   "cell_type": "code",
   "execution_count": 40,
   "metadata": {},
   "outputs": [
    {
     "data": {
      "text/html": [
       "<div>\n",
       "<style scoped>\n",
       "    .dataframe tbody tr th:only-of-type {\n",
       "        vertical-align: middle;\n",
       "    }\n",
       "\n",
       "    .dataframe tbody tr th {\n",
       "        vertical-align: top;\n",
       "    }\n",
       "\n",
       "    .dataframe thead th {\n",
       "        text-align: right;\n",
       "    }\n",
       "</style>\n",
       "<table border=\"1\" class=\"dataframe\">\n",
       "  <thead>\n",
       "    <tr style=\"text-align: right;\">\n",
       "      <th></th>\n",
       "      <th>Premiums Paid</th>\n",
       "      <th>Age</th>\n",
       "      <th>Days to Renew</th>\n",
       "      <th>Claims made</th>\n",
       "      <th>Income</th>\n",
       "    </tr>\n",
       "    <tr>\n",
       "      <th>Clust</th>\n",
       "      <th></th>\n",
       "      <th></th>\n",
       "      <th></th>\n",
       "      <th></th>\n",
       "      <th></th>\n",
       "    </tr>\n",
       "  </thead>\n",
       "  <tbody>\n",
       "    <tr>\n",
       "      <th>0</th>\n",
       "      <td>9254.761905</td>\n",
       "      <td>46.142857</td>\n",
       "      <td>237.761905</td>\n",
       "      <td>16713.571760</td>\n",
       "      <td>80928.571429</td>\n",
       "    </tr>\n",
       "    <tr>\n",
       "      <th>1</th>\n",
       "      <td>8845.918367</td>\n",
       "      <td>39.775510</td>\n",
       "      <td>64.551020</td>\n",
       "      <td>5464.794584</td>\n",
       "      <td>81173.469388</td>\n",
       "    </tr>\n",
       "    <tr>\n",
       "      <th>2</th>\n",
       "      <td>20880.833333</td>\n",
       "      <td>56.433333</td>\n",
       "      <td>129.466667</td>\n",
       "      <td>21304.646503</td>\n",
       "      <td>151600.000000</td>\n",
       "    </tr>\n",
       "  </tbody>\n",
       "</table>\n",
       "</div>"
      ],
      "text/plain": [
       "       Premiums Paid        Age  Days to Renew   Claims made         Income\n",
       "Clust                                                                      \n",
       "0        9254.761905  46.142857     237.761905  16713.571760   80928.571429\n",
       "1        8845.918367  39.775510      64.551020   5464.794584   81173.469388\n",
       "2       20880.833333  56.433333     129.466667  21304.646503  151600.000000"
      ]
     },
     "execution_count": 40,
     "metadata": {},
     "output_type": "execute_result"
    }
   ],
   "source": [
    "out = Dataset_new.groupby(Dataset_new.Clust).mean()\n",
    "out"
   ]
  },
  {
   "cell_type": "code",
   "execution_count": null,
   "metadata": {},
   "outputs": [],
   "source": []
  }
 ],
 "metadata": {
  "kernelspec": {
   "display_name": "Python 3",
   "language": "python",
   "name": "python3"
  },
  "language_info": {
   "codemirror_mode": {
    "name": "ipython",
    "version": 3
   },
   "file_extension": ".py",
   "mimetype": "text/x-python",
   "name": "python",
   "nbconvert_exporter": "python",
   "pygments_lexer": "ipython3",
   "version": "3.8.3"
  }
 },
 "nbformat": 4,
 "nbformat_minor": 4
}
